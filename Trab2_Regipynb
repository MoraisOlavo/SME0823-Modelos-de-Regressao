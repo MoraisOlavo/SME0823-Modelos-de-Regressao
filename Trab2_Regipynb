{
  "nbformat": 4,
  "nbformat_minor": 0,
  "metadata": {
    "colab": {
      "provenance": []
    },
    "kernelspec": {
      "name": "python3",
      "display_name": "Python 3"
    },
    "language_info": {
      "name": "python"
    }
  },
  "cells": [
    {
      "cell_type": "markdown",
      "source": [
        "Trabalho 2 - SME0823 Modelos de Regressão e Aprendizado Supervisionado II<br>\n",
        "Gustavo Terra Brandão da Silva - NUSP:11274935<br>\n",
        "Olavo Morais Borges Pereira - NUSP:11297792\n"
      ],
      "metadata": {
        "id": "u8m5nEKLViNr"
      }
    },
    {
      "cell_type": "markdown",
      "source": [
        "# **Introdução**"
      ],
      "metadata": {
        "id": "l83HWK6NND9A"
      }
    },
    {
      "cell_type": "markdown",
      "source": [
        "Para a elaboração deste trabalho, optamos por abordar um problema de classificação binária utilizando dados provenientes do repositório UCI. O conjunto de dados consiste em 768 pacientes do sexo feminino, todos com mais de 21 anos e pertencentes à etnia indígena Pima, localizados no estado do Arizona, Estados Unidos.<br><br> As pacientes foram categorizadas em dois grupos: saudáveis e portadoras de diabetes. As informações foram obtidas do UCI/Kaggle e estão disponíveis através do seguinte link: https://www.kaggle.com/datasets/uciml/pima-indians-diabetes-database/code?datasetId=228&searchQuery=logistic.\n",
        "\n",
        "<br>Cada paciente é caracterizado por oito features/variáveis explicativas, são elas:\n",
        "\n",
        "*   Pregnancies: Número de vezes que a paciente ficou grávida\n",
        "*   Glucose: Concentração de glicose no plasma às 2 horas em um teste de tolerância à glicose oral\n",
        "*   BloodPressure: Pressão arterial diastólica em mm Hg\n",
        "*   SkinThickness: espessura da dobra cutânea do tríceps (mm)\n",
        "*   Insulin: Insulina sérica após 2 horas (mu U/ml)\n",
        "*   BMI: Índice de Massa Corporal (peso em kg/(altura em m)^2)\n",
        "*   DiabetesPedigreeFunction: Função de pedigree de diabetes, número associado a pré-disposição genética do indivíduo contrair a doença\n",
        "*   Age: idade(anos)\n",
        "\n",
        "Além disso, cada paciente possui o target/variável dependente chamada Outcome.<br> Outcome=0 indica uma paciente saudável, Outcome=1 indica uma paciente portadora de diabetes\n"
      ],
      "metadata": {
        "id": "DdnTv0GDNSpZ"
      }
    },
    {
      "cell_type": "markdown",
      "source": [
        "Para abordar o problema, optamos por empregar a Regressão Logística, ou seja, um Modelo Linear Generalizado (GLM) com a função Logit como função de ligação e a distribuição de Bernoulli como Componente Aleatório."
      ],
      "metadata": {
        "id": "GCESa3M13Xxh"
      }
    },
    {
      "cell_type": "markdown",
      "source": [
        "O primeiro passo é importar os dados e em seguida, visualizar a relação entre cada feature e o Outcome bem como calcular o Valor da Informação de cada feature e verificar se é possível simplificar o dataset."
      ],
      "metadata": {
        "id": "owZ4EIA_Tg3g"
      }
    },
    {
      "cell_type": "code",
      "source": [
        "#Importando as bibliotecas necessárias\n",
        "import pandas as pd\n",
        "import numpy as np\n",
        "import math\n",
        "import matplotlib.pyplot as plt\n",
        "import statsmodels.api as sm\n",
        "from sklearn.model_selection import train_test_split\n",
        "from sklearn.model_selection import KFold\n",
        "from sklearn.metrics import accuracy_score, classification_report\n",
        "from sklearn.metrics import confusion_matrix\n",
        "import seaborn as sns\n",
        "from IPython.display import display"
      ],
      "metadata": {
        "id": "D53a5J3172Ga"
      },
      "execution_count": null,
      "outputs": []
    },
    {
      "cell_type": "code",
      "execution_count": null,
      "metadata": {
        "colab": {
          "base_uri": "https://localhost:8080/"
        },
        "id": "EyttMAR9pulR",
        "outputId": "b302ba2c-d9dd-4987-b88d-a53f63eda139"
      },
      "outputs": [
        {
          "output_type": "stream",
          "name": "stdout",
          "text": [
            "\n",
            "\n"
          ]
        }
      ],
      "source": [
        "# Crie o DataFrame a partir do CSV\n",
        "dataframe = pd.read_csv('diabetes.csv')\n",
        "dataframe\n",
        "print(\"\\n\")"
      ]
    },
    {
      "cell_type": "markdown",
      "source": [
        "Em primeiro lugar, convém verificar se o dataset está balanceado:"
      ],
      "metadata": {
        "id": "n7NyVJrUyuG6"
      }
    },
    {
      "cell_type": "code",
      "source": [
        "#Conta quantas amostras de cada classe existem no dataset\n",
        "contagem = dataframe['Outcome'].value_counts()\n",
        "print(\"Número de amostras de cada classe:\")\n",
        "print(contagem)\n",
        "print(\"\\n\")\n",
        "\n",
        "# Crie um gráfico de pizza\n",
        "plt.figure(figsize=(6, 6))\n",
        "plt.pie(contagem, labels=contagem.index, autopct='%1.1f%%', startangle=90, colors=['skyblue', 'lightcoral'])\n",
        "plt.title('Distribuição de Classes')\n",
        "plt.show()\n",
        "\n",
        "print(\"\\n\")"
      ],
      "metadata": {
        "colab": {
          "base_uri": "https://localhost:8080/",
          "height": 660
        },
        "id": "bth8kC6uyncb",
        "outputId": "c70c6e7f-9887-48b9-85ec-22deb6c8f7f8"
      },
      "execution_count": null,
      "outputs": [
        {
          "output_type": "stream",
          "name": "stdout",
          "text": [
            "Número de amostras de cada classe:\n",
            "0    500\n",
            "1    268\n",
            "Name: Outcome, dtype: int64\n",
            "\n",
            "\n"
          ]
        },
        {
          "output_type": "display_data",
          "data": {
            "text/plain": [
              "<Figure size 600x600 with 1 Axes>"
            ],
            "image/png": "[encoded data removed]"
          },
          "metadata": {}
        },
        {
          "output_type": "stream",
          "name": "stdout",
          "text": [
            "\n",
            "\n"
          ]
        }
      ]
    },
    {
      "cell_type": "markdown",
      "source": [
        "Ao analisar o gráfico, observa-se que o conjunto de dados não é extenso e apresenta um desequilíbrio: dos 768 pacientes, 500 são considerados saudáveis, correspondendo a 65,10% do total, o que significa que uma das classes é representada de forma significativamente maior. Por outro lado, a parcela de pacientes com diabetes abrange apenas 34,90% dos dados, indicando que o número de pacientes diagnosticados com a doença é quase a metade do número de pacientes saudáveis."
      ],
      "metadata": {
        "id": "g1oCUVXswOiE"
      }
    },
    {
      "cell_type": "markdown",
      "source": [
        "Além disso, convém analisar o gráfico que relaciona cada feature individualmente com a variável dependente Outcome, bem como o Valor de Informação de cada feature:"
      ],
      "metadata": {
        "id": "6aGBRv2_za6t"
      }
    },
    {
      "cell_type": "code",
      "source": [
        "#Função que calcula o Valor da informação, recebe o dataframe com todos os dados, qual a feature a ser calculada e o número de intervalos/bins\n",
        "def calcularIV(df, feature,n):\n",
        "  #Define o tamanho de cada bin\n",
        "  hist_range = (min(dataframe[feature]), max(dataframe[feature]))\n",
        "\n",
        "  #Calcula o maior e o menor valor encontrado para essa feature\n",
        "  tamanho_intervalo=(hist_range[1]-hist_range[0])/n\n",
        "\n",
        "  #Calcula o total de amostras com Outcome=0 e o total de amostras com Outcome=1\n",
        "  total_amostras=df.shape[0]\n",
        "  total_positivos=df['Outcome'].sum()\n",
        "  total_negativos=total_amostras-total_positivos\n",
        "\n",
        "  #Vetor que armazena o iv de cada bin/intervalo\n",
        "  iv_vetor=[]\n",
        "\n",
        "  #Para cada intervalo/bin\n",
        "  for i in range(n):\n",
        "    #Define as amostras do intervalo\n",
        "    bin_df = df.loc[(df[feature] >= hist_range[0]+i*tamanho_intervalo) & (df[feature] <= hist_range[0]+(i+1)*tamanho_intervalo)]\n",
        "\n",
        "    #Calcula o número de amostras com Outcome=0 e número de amostras com Outcome=1 no intervalo\n",
        "    parcial_amostras=bin_df.shape[0]\n",
        "    parcial_positivos=bin_df['Outcome'].sum()\n",
        "    parcial_negativos=parcial_amostras-parcial_positivos\n",
        "\n",
        "    #Calcula a razão entre positivos/negativos do intervalo com os positivos/negativos de todo o dataset\n",
        "    razao_positivos=parcial_positivos/total_positivos\n",
        "    razao_negativos=parcial_negativos/total_negativos\n",
        "\n",
        "    #Se uma das razões for zero, então soma 0.5 para evitar calcular log(0) e log(infinito)\n",
        "    if razao_negativos==0:\n",
        "      razao_negativos+=0.5\n",
        "\n",
        "    if razao_positivos==0:\n",
        "      razao_positivos+=0.5\n",
        "\n",
        "    #Calcula o Weight of Evidence do intervalo/bin\n",
        "    woe=math.log(razao_positivos/razao_negativos)\n",
        "\n",
        "    #Calcula o Valor da Informação do intervalo/bin\n",
        "    iv=(razao_positivos-razao_negativos)*woe\n",
        "\n",
        "    #Adiciona no vetor com IVs dos intervalos\n",
        "    iv_vetor.append(iv)\n",
        "\n",
        "  #Retorna a soma dos IVs de cada intervalo\n",
        "  return sum(iv_vetor)"
      ],
      "metadata": {
        "id": "iAf5IyWMTTsn"
      },
      "execution_count": null,
      "outputs": []
    },
    {
      "cell_type": "code",
      "source": [
        "#Número de gráficos por linha e coluna\n",
        "num_linhas = 3\n",
        "num_colunas = 3\n",
        "\n",
        "#Variável auxiliar, usada para determinar a posição de cada gráfico\n",
        "aux=0;\n",
        "\n",
        "# Cria subplots\n",
        "fig, axes = plt.subplots(num_linhas, num_colunas, figsize=(15, 15))\n",
        "plt.subplots_adjust(hspace=0.3)\n",
        "\n",
        "#Cria o histograma para cada feature\n",
        "for feature in dataframe.columns[:-1]:\n",
        "  #Calcula o maior e menor valor da feature\n",
        "  hist_range = (min(dataframe[feature]), max(dataframe[feature]))\n",
        "\n",
        "  #Define a posição do gráfico a ser inserido\n",
        "  linha=aux//num_colunas\n",
        "  coluna=aux%num_colunas\n",
        "\n",
        "  #Cria os histogramas\n",
        "  axes[linha, coluna].hist(dataframe[dataframe['Outcome'] == 0][feature], bins=10, alpha=0.8, label='y=0', range=hist_range, color='black')\n",
        "  axes[linha, coluna].hist(dataframe[dataframe['Outcome'] == 1][feature], bins=10, alpha=0.8, label='y=1', range=hist_range, color='grey')\n",
        "\n",
        "  # Define local da legenda\n",
        "  axes[linha, coluna].legend(loc='upper right')\n",
        "\n",
        "  # Adiciona título\n",
        "  axes[linha, coluna].set_title(feature)\n",
        "\n",
        "  #Adiciona texto abaixo do gráfico com o IV da feature\n",
        "  axes[linha, coluna].text(0.5, -0.15, f\"IV da feature {feature}: {calcularIV(dataframe,feature,4)}\\n\", size=10, ha='center', va='center', transform=axes[linha, coluna].transAxes)\n",
        "  aux+=1\n",
        "  #Define local da legenda\n",
        "\n",
        "#Remove o último gráfico vazio\n",
        "axes[-1, -1].axis('off')\n",
        "#Exibe os gráficos\n",
        "plt.show()\n",
        "\n",
        "print(18*\"\\n\")"
      ],
      "metadata": {
        "colab": {
          "base_uri": "https://localhost:8080/",
          "height": 1000
        },
        "id": "rwROYikiLgiF",
        "outputId": "2f10eddd-19bf-4dd3-d51d-2b92c2f0db96"
      },
      "execution_count": null,
      "outputs": [
        {
          "output_type": "display_data",
          "data": {
            "text/plain": [
              "<Figure size 1500x1500 with 9 Axes>"
            ],
            "image/png": "[encoded data removed]"
          },
          "metadata": {}
        },
        {
          "output_type": "stream",
          "name": "stdout",
          "text": [
            "\n",
            "\n",
            "\n",
            "\n",
            "\n",
            "\n",
            "\n",
            "\n",
            "\n",
            "\n",
            "\n",
            "\n",
            "\n",
            "\n",
            "\n",
            "\n",
            "\n",
            "\n",
            "\n"
          ]
        }
      ]
    },
    {
      "cell_type": "markdown",
      "source": [
        "Após a análise do Valor de Informação associado a cada característica, decidimos manter todas as características no conjunto de dados. Essa escolha fundamenta-se no fato de que, mesmo uma característica apresentando IV<0.1, os valores ainda são bastante próximos. Além disso, é relevante ressaltar que o limiar de 0.1 não constitui um valor absoluto, mas sim um critério empírico, sujeito a variações de caso a caso.\n",
        "\n",
        "Acreditamos que, com base em nosso conhecimento, todas as características exercem influência na decisão de determinar se um paciente é ou não portador de diabetes. Vale destacar que as oito características atualmente presentes no conjunto de dados são consideradas uma quantidade moderada, não implicando em um custo computacional elevado."
      ],
      "metadata": {
        "id": "UPjbZLSfyH3Y"
      }
    },
    {
      "cell_type": "markdown",
      "source": [
        "# **Avaliando o Modelo**"
      ],
      "metadata": {
        "id": "ALU2GTsY3MKg"
      }
    },
    {
      "cell_type": "markdown",
      "source": [
        "Para avaliar a eficácia da regressão logística na resolução do problema, optamos por duas estratégias:\n",
        "\n",
        "1. Divisão do conjunto de dados em Conjunto de Treino e Conjunto de Teste\n",
        "2. Leave One Out Cross Validation\n",
        "\n",
        "A divisão em conjunto de treino e teste consiste em dividir aleatoriamente o conjunto de dados em duas partes: uma destinada ao treinamento do modelo e outra para avaliar a capacidade de aprendizado do modelo. Tradicionalmente, o conjunto de teste costuma representar de 15% a 40% dos dados originais.\n",
        "\n",
        "O Leave One Out Cross Validation envolve treinar n modelos, cada um com n-1 amostras, ou seja, excluindo uma amostra do conjunto de treino a cada iteração e utilizando essa amostra como caso de teste. As métricas são calculadas fazendo a média das métricas de todos os modelos."
      ],
      "metadata": {
        "id": "juKg72EE3Ptt"
      }
    },
    {
      "cell_type": "markdown",
      "source": [
        "As métricas adotadas incluíram acurácia (accuracy), precisão (precision), sensibilidade (recall) e o índice F1. Adicionalmente, optamos por apresentar a matriz de confusão, pois esta permite uma avaliação visual das capacidades e limitações do modelo."
      ],
      "metadata": {
        "id": "4c31xA4iatMg"
      }
    },
    {
      "cell_type": "markdown",
      "source": [
        "Descrição das métricas utilizadas:\n",
        "\n",
        "Acurácia (Accuracy): Fornece uma visão geral do desempenho do modelo, calculando a proporção de predições corretas em relação ao total de predições. Pode ser influenciada por desequilíbrios nas classes.\n",
        "\n",
        "Precisão (Precision): Mede a proporção de predições corretas de uma classe em relação ao total de predições feitas pelo modelo para essa classe. É valiosa quando o foco está em evitar falsos positivos e falsos negativos.\n",
        "\n",
        "Sensibilidade (Recall): Mede a proporção de predições corretas em relação ao total de amostras de uma classe.Crucial para identificar a dificuldade que o modelo possui para identificar uma classe\n",
        "\n",
        "Índice F1 (F1 Score): O índice F1 é uma métrica que combina precisão e sensibilidade, fornecendo uma medida balanceada. É particularmente útil em situações de desequilíbrio entre as classes."
      ],
      "metadata": {
        "id": "QcQ4Dt2Mbw0j"
      }
    },
    {
      "cell_type": "markdown",
      "source": [
        "# **Divisão em Conjunto de Teste e Conjunto de Treino**"
      ],
      "metadata": {
        "id": "cOC5BKFb7gKO"
      }
    },
    {
      "cell_type": "markdown",
      "source": [
        "Divisão do conjunto de dados: Optamos por alocar 20% dos dados originais no conjunto de teste. Adicionalmente, fixamos uma semente para assegurar a consistência na geração dos dados, garantindo reprodutibilidade durante a execução do trabalho."
      ],
      "metadata": {
        "id": "1CZ5wgYM7P3-"
      }
    },
    {
      "cell_type": "code",
      "source": [
        "#Adiciona uma coluna com constantes iguais a 1, necessário para calcular o termo de receptação/termo independente no cálculo do componente sistemático\n",
        "dataframe=sm.add_constant(dataframe)\n",
        "\n",
        "#X é o dataset sem a coluna Outcome\n",
        "X=dataframe.drop(\"Outcome\",axis=1)\n",
        "\n",
        "#y é apenas a coluna Outcome do dataset\n",
        "y=dataframe['Outcome']\n",
        "\n",
        "#Faz a divisão do conjunto de dados, optamos por usar 20% dos dados para validar o modelo\n",
        "Xtrain, Xtest, ytrain, ytest = train_test_split (X, y, test_size=0.2, random_state=42)"
      ],
      "metadata": {
        "id": "6OKOg3PZsXBG"
      },
      "execution_count": null,
      "outputs": []
    },
    {
      "cell_type": "code",
      "source": [
        "Xtrain"
      ],
      "metadata": {
        "colab": {
          "base_uri": "https://localhost:8080/",
          "height": 423
        },
        "id": "TtL8WVoVs8sW",
        "outputId": "85ce792f-980f-440e-bd06-843b736fc7a3"
      },
      "execution_count": null,
      "outputs": [
        {
          "output_type": "execute_result",
          "data": {
            "text/plain": [
              "     const  Pregnancies  Glucose  BloodPressure  SkinThickness  Insulin   BMI  \\\n",
              "60     1.0            2       84              0              0        0   0.0   \n",
              "618    1.0            9      112             82             24        0  28.2   \n",
              "346    1.0            1      139             46             19       83  28.7   \n",
              "294    1.0            0      161             50              0        0  21.9   \n",
              "231    1.0            6      134             80             37      370  46.2   \n",
              "..     ...          ...      ...            ...            ...      ...   ...   \n",
              "71     1.0            5      139             64             35      140  28.6   \n",
              "106    1.0            1       96            122              0        0  22.4   \n",
              "270    1.0           10      101             86             37        0  45.6   \n",
              "435    1.0            0      141              0              0        0  42.4   \n",
              "102    1.0            0      125             96              0        0  22.5   \n",
              "\n",
              "     DiabetesPedigreeFunction  Age  \n",
              "60                      0.304   21  \n",
              "618                     1.282   50  \n",
              "346                     0.654   22  \n",
              "294                     0.254   65  \n",
              "231                     0.238   46  \n",
              "..                        ...  ...  \n",
              "71                      0.411   26  \n",
              "106                     0.207   27  \n",
              "270                     1.136   38  \n",
              "435                     0.205   29  \n",
              "102                     0.262   21  \n",
              "\n",
              "[614 rows x 9 columns]"
            ],
            "text/html": [
              "\n",
              "  <div id=\"df-55d06d39-7d39-49d0-bab0-15c29c028f8b\" class=\"colab-df-container\">\n",
              "    <div>\n",
              "<style scoped>\n",
              "    .dataframe tbody tr th:only-of-type {\n",
              "        vertical-align: middle;\n",
              "    }\n",
              "\n",
              "    .dataframe tbody tr th {\n",
              "        vertical-align: top;\n",
              "    }\n",
              "\n",
              "    .dataframe thead th {\n",
              "        text-align: right;\n",
              "    }\n",
              "</style>\n",
              "<table border=\"1\" class=\"dataframe\">\n",
              "  <thead>\n",
              "    <tr style=\"text-align: right;\">\n",
              "      <th></th>\n",
              "      <th>const</th>\n",
              "      <th>Pregnancies</th>\n",
              "      <th>Glucose</th>\n",
              "      <th>BloodPressure</th>\n",
              "      <th>SkinThickness</th>\n",
              "      <th>Insulin</th>\n",
              "      <th>BMI</th>\n",
              "      <th>DiabetesPedigreeFunction</th>\n",
              "      <th>Age</th>\n",
              "    </tr>\n",
              "  </thead>\n",
              "  <tbody>\n",
              "    <tr>\n",
              "      <th>60</th>\n",
              "      <td>1.0</td>\n",
              "      <td>2</td>\n",
              "      <td>84</td>\n",
              "      <td>0</td>\n",
              "      <td>0</td>\n",
              "      <td>0</td>\n",
              "      <td>0.0</td>\n",
              "      <td>0.304</td>\n",
              "      <td>21</td>\n",
              "    </tr>\n",
              "    <tr>\n",
              "      <th>618</th>\n",
              "      <td>1.0</td>\n",
              "      <td>9</td>\n",
              "      <td>112</td>\n",
              "      <td>82</td>\n",
              "      <td>24</td>\n",
              "      <td>0</td>\n",
              "      <td>28.2</td>\n",
              "      <td>1.282</td>\n",
              "      <td>50</td>\n",
              "    </tr>\n",
              "    <tr>\n",
              "      <th>346</th>\n",
              "      <td>1.0</td>\n",
              "      <td>1</td>\n",
              "      <td>139</td>\n",
              "      <td>46</td>\n",
              "      <td>19</td>\n",
              "      <td>83</td>\n",
              "      <td>28.7</td>\n",
              "      <td>0.654</td>\n",
              "      <td>22</td>\n",
              "    </tr>\n",
              "    <tr>\n",
              "      <th>294</th>\n",
              "      <td>1.0</td>\n",
              "      <td>0</td>\n",
              "      <td>161</td>\n",
              "      <td>50</td>\n",
              "      <td>0</td>\n",
              "      <td>0</td>\n",
              "      <td>21.9</td>\n",
              "      <td>0.254</td>\n",
              "      <td>65</td>\n",
              "    </tr>\n",
              "    <tr>\n",
              "      <th>231</th>\n",
              "      <td>1.0</td>\n",
              "      <td>6</td>\n",
              "      <td>134</td>\n",
              "      <td>80</td>\n",
              "      <td>37</td>\n",
              "      <td>370</td>\n",
              "      <td>46.2</td>\n",
              "      <td>0.238</td>\n",
              "      <td>46</td>\n",
              "    </tr>\n",
              "    <tr>\n",
              "      <th>...</th>\n",
              "      <td>...</td>\n",
              "      <td>...</td>\n",
              "      <td>...</td>\n",
              "      <td>...</td>\n",
              "      <td>...</td>\n",
              "      <td>...</td>\n",
              "      <td>...</td>\n",
              "      <td>...</td>\n",
              "      <td>...</td>\n",
              "    </tr>\n",
              "    <tr>\n",
              "      <th>71</th>\n",
              "      <td>1.0</td>\n",
              "      <td>5</td>\n",
              "      <td>139</td>\n",
              "      <td>64</td>\n",
              "      <td>35</td>\n",
              "      <td>140</td>\n",
              "      <td>28.6</td>\n",
              "      <td>0.411</td>\n",
              "      <td>26</td>\n",
              "    </tr>\n",
              "    <tr>\n",
              "      <th>106</th>\n",
              "      <td>1.0</td>\n",
              "      <td>1</td>\n",
              "      <td>96</td>\n",
              "      <td>122</td>\n",
              "      <td>0</td>\n",
              "      <td>0</td>\n",
              "      <td>22.4</td>\n",
              "      <td>0.207</td>\n",
              "      <td>27</td>\n",
              "    </tr>\n",
              "    <tr>\n",
              "      <th>270</th>\n",
              "      <td>1.0</td>\n",
              "      <td>10</td>\n",
              "      <td>101</td>\n",
              "      <td>86</td>\n",
              "      <td>37</td>\n",
              "      <td>0</td>\n",
              "      <td>45.6</td>\n",
              "      <td>1.136</td>\n",
              "      <td>38</td>\n",
              "    </tr>\n",
              "    <tr>\n",
              "      <th>435</th>\n",
              "      <td>1.0</td>\n",
              "      <td>0</td>\n",
              "      <td>141</td>\n",
              "      <td>0</td>\n",
              "      <td>0</td>\n",
              "      <td>0</td>\n",
              "      <td>42.4</td>\n",
              "      <td>0.205</td>\n",
              "      <td>29</td>\n",
              "    </tr>\n",
              "    <tr>\n",
              "      <th>102</th>\n",
              "      <td>1.0</td>\n",
              "      <td>0</td>\n",
              "      <td>125</td>\n",
              "      <td>96</td>\n",
              "      <td>0</td>\n",
              "      <td>0</td>\n",
              "      <td>22.5</td>\n",
              "      <td>0.262</td>\n",
              "      <td>21</td>\n",
              "    </tr>\n",
              "  </tbody>\n",
              "</table>\n",
              "<p>614 rows × 9 columns</p>\n",
              "</div>\n",
              "    <div class=\"colab-df-buttons\">\n",
              "\n",
              "  <div class=\"colab-df-container\">\n",
              "    <button class=\"colab-df-convert\" onclick=\"convertToInteractive('df-55d06d39-7d39-49d0-bab0-15c29c028f8b')\"\n",
              "            title=\"Convert this dataframe to an interactive table.\"\n",
              "            style=\"display:none;\">\n",
              "\n",
              "  <svg xmlns=\"http://www.w3.org/2000/svg\" height=\"24px\" viewBox=\"0 -960 960 960\">\n",
              "    <path d=\"M120-120v-720h720v720H120Zm60-500h600v-160H180v160Zm220 220h160v-160H400v160Zm0 220h160v-160H400v160ZM180-400h160v-160H180v160Zm440 0h160v-160H620v160ZM180-180h160v-160H180v160Zm440 0h160v-160H620v160Z\"/>\n",
              "  </svg>\n",
              "    </button>\n",
              "\n",
              "  <style>\n",
              "    .colab-df-container {\n",
              "      display:flex;\n",
              "      gap: 12px;\n",
              "    }\n",
              "\n",
              "    .colab-df-convert {\n",
              "      background-color: #E8F0FE;\n",
              "      border: none;\n",
              "      border-radius: 50%;\n",
              "      cursor: pointer;\n",
              "      display: none;\n",
              "      fill: #1967D2;\n",
              "      height: 32px;\n",
              "      padding: 0 0 0 0;\n",
              "      width: 32px;\n",
              "    }\n",
              "\n",
              "    .colab-df-convert:hover {\n",
              "      background-color: #E2EBFA;\n",
              "      box-shadow: 0px 1px 2px rgba(60, 64, 67, 0.3), 0px 1px 3px 1px rgba(60, 64, 67, 0.15);\n",
              "      fill: #174EA6;\n",
              "    }\n",
              "\n",
              "    .colab-df-buttons div {\n",
              "      margin-bottom: 4px;\n",
              "    }\n",
              "\n",
              "    [theme=dark] .colab-df-convert {\n",
              "      background-color: #3B4455;\n",
              "      fill: #D2E3FC;\n",
              "    }\n",
              "\n",
              "    [theme=dark] .colab-df-convert:hover {\n",
              "      background-color: #434B5C;\n",
              "      box-shadow: 0px 1px 3px 1px rgba(0, 0, 0, 0.15);\n",
              "      filter: drop-shadow(0px 1px 2px rgba(0, 0, 0, 0.3));\n",
              "      fill: #FFFFFF;\n",
              "    }\n",
              "  </style>\n",
              "\n",
              "    <script>\n",
              "      const buttonEl =\n",
              "        document.querySelector('#df-55d06d39-7d39-49d0-bab0-15c29c028f8b button.colab-df-convert');\n",
              "      buttonEl.style.display =\n",
              "        google.colab.kernel.accessAllowed ? 'block' : 'none';\n",
              "\n",
              "      async function convertToInteractive(key) {\n",
              "        const element = document.querySelector('#df-55d06d39-7d39-49d0-bab0-15c29c028f8b');\n",
              "        const dataTable =\n",
              "          await google.colab.kernel.invokeFunction('convertToInteractive',\n",
              "                                                    [key], {});\n",
              "        if (!dataTable) return;\n",
              "\n",
              "        const docLinkHtml = 'Like what you see? Visit the ' +\n",
              "          '<a target=\"_blank\" href=https://colab.research.google.com/notebooks/data_table.ipynb>data table notebook</a>'\n",
              "          + ' to learn more about interactive tables.';\n",
              "        element.innerHTML = '';\n",
              "        dataTable['output_type'] = 'display_data';\n",
              "        await google.colab.output.renderOutput(dataTable, element);\n",
              "        const docLink = document.createElement('div');\n",
              "        docLink.innerHTML = docLinkHtml;\n",
              "        element.appendChild(docLink);\n",
              "      }\n",
              "    </script>\n",
              "  </div>\n",
              "\n",
              "\n",
              "<div id=\"df-abb36a56-cf41-4b5b-8227-4ed3d11cee6d\">\n",
              "  <button class=\"colab-df-quickchart\" onclick=\"quickchart('df-abb36a56-cf41-4b5b-8227-4ed3d11cee6d')\"\n",
              "            title=\"Suggest charts\"\n",
              "            style=\"display:none;\">\n",
              "\n",
              "<svg xmlns=\"http://www.w3.org/2000/svg\" height=\"24px\"viewBox=\"0 0 24 24\"\n",
              "     width=\"24px\">\n",
              "    <g>\n",
              "        <path d=\"M19 3H5c-1.1 0-2 .9-2 2v14c0 1.1.9 2 2 2h14c1.1 0 2-.9 2-2V5c0-1.1-.9-2-2-2zM9 17H7v-7h2v7zm4 0h-2V7h2v10zm4 0h-2v-4h2v4z\"/>\n",
              "    </g>\n",
              "</svg>\n",
              "  </button>\n",
              "\n",
              "<style>\n",
              "  .colab-df-quickchart {\n",
              "      --bg-color: #E8F0FE;\n",
              "      --fill-color: #1967D2;\n",
              "      --hover-bg-color: #E2EBFA;\n",
              "      --hover-fill-color: #174EA6;\n",
              "      --disabled-fill-color: #AAA;\n",
              "      --disabled-bg-color: #DDD;\n",
              "  }\n",
              "\n",
              "  [theme=dark] .colab-df-quickchart {\n",
              "      --bg-color: #3B4455;\n",
              "      --fill-color: #D2E3FC;\n",
              "      --hover-bg-color: #434B5C;\n",
              "      --hover-fill-color: #FFFFFF;\n",
              "      --disabled-bg-color: #3B4455;\n",
              "      --disabled-fill-color: #666;\n",
              "  }\n",
              "\n",
              "  .colab-df-quickchart {\n",
              "    background-color: var(--bg-color);\n",
              "    border: none;\n",
              "    border-radius: 50%;\n",
              "    cursor: pointer;\n",
              "    display: none;\n",
              "    fill: var(--fill-color);\n",
              "    height: 32px;\n",
              "    padding: 0;\n",
              "    width: 32px;\n",
              "  }\n",
              "\n",
              "  .colab-df-quickchart:hover {\n",
              "    background-color: var(--hover-bg-color);\n",
              "    box-shadow: 0 1px 2px rgba(60, 64, 67, 0.3), 0 1px 3px 1px rgba(60, 64, 67, 0.15);\n",
              "    fill: var(--button-hover-fill-color);\n",
              "  }\n",
              "\n",
              "  .colab-df-quickchart-complete:disabled,\n",
              "  .colab-df-quickchart-complete:disabled:hover {\n",
              "    background-color: var(--disabled-bg-color);\n",
              "    fill: var(--disabled-fill-color);\n",
              "    box-shadow: none;\n",
              "  }\n",
              "\n",
              "  .colab-df-spinner {\n",
              "    border: 2px solid var(--fill-color);\n",
              "    border-color: transparent;\n",
              "    border-bottom-color: var(--fill-color);\n",
              "    animation:\n",
              "      spin 1s steps(1) infinite;\n",
              "  }\n",
              "\n",
              "  @keyframes spin {\n",
              "    0% {\n",
              "      border-color: transparent;\n",
              "      border-bottom-color: var(--fill-color);\n",
              "      border-left-color: var(--fill-color);\n",
              "    }\n",
              "    20% {\n",
              "      border-color: transparent;\n",
              "      border-left-color: var(--fill-color);\n",
              "      border-top-color: var(--fill-color);\n",
              "    }\n",
              "    30% {\n",
              "      border-color: transparent;\n",
              "      border-left-color: var(--fill-color);\n",
              "      border-top-color: var(--fill-color);\n",
              "      border-right-color: var(--fill-color);\n",
              "    }\n",
              "    40% {\n",
              "      border-color: transparent;\n",
              "      border-right-color: var(--fill-color);\n",
              "      border-top-color: var(--fill-color);\n",
              "    }\n",
              "    60% {\n",
              "      border-color: transparent;\n",
              "      border-right-color: var(--fill-color);\n",
              "    }\n",
              "    80% {\n",
              "      border-color: transparent;\n",
              "      border-right-color: var(--fill-color);\n",
              "      border-bottom-color: var(--fill-color);\n",
              "    }\n",
              "    90% {\n",
              "      border-color: transparent;\n",
              "      border-bottom-color: var(--fill-color);\n",
              "    }\n",
              "  }\n",
              "</style>\n",
              "\n",
              "  <script>\n",
              "    async function quickchart(key) {\n",
              "      const quickchartButtonEl =\n",
              "        document.querySelector('#' + key + ' button');\n",
              "      quickchartButtonEl.disabled = true;  // To prevent multiple clicks.\n",
              "      quickchartButtonEl.classList.add('colab-df-spinner');\n",
              "      try {\n",
              "        const charts = await google.colab.kernel.invokeFunction(\n",
              "            'suggestCharts', [key], {});\n",
              "      } catch (error) {\n",
              "        console.error('Error during call to suggestCharts:', error);\n",
              "      }\n",
              "      quickchartButtonEl.classList.remove('colab-df-spinner');\n",
              "      quickchartButtonEl.classList.add('colab-df-quickchart-complete');\n",
              "    }\n",
              "    (() => {\n",
              "      let quickchartButtonEl =\n",
              "        document.querySelector('#df-abb36a56-cf41-4b5b-8227-4ed3d11cee6d button');\n",
              "      quickchartButtonEl.style.display =\n",
              "        google.colab.kernel.accessAllowed ? 'block' : 'none';\n",
              "    })();\n",
              "  </script>\n",
              "</div>\n",
              "    </div>\n",
              "  </div>\n"
            ]
          },
          "metadata": {},
          "execution_count": 7
        }
      ]
    },
    {
      "cell_type": "code",
      "source": [
        "ytrain"
      ],
      "metadata": {
        "colab": {
          "base_uri": "https://localhost:8080/"
        },
        "id": "zz7xCM_Cs9XO",
        "outputId": "346bce02-3d3a-4e44-a7ba-b7201374b649"
      },
      "execution_count": null,
      "outputs": [
        {
          "output_type": "execute_result",
          "data": {
            "text/plain": [
              "60     0\n",
              "618    1\n",
              "346    0\n",
              "294    0\n",
              "231    1\n",
              "      ..\n",
              "71     0\n",
              "106    0\n",
              "270    1\n",
              "435    1\n",
              "102    0\n",
              "Name: Outcome, Length: 614, dtype: int64"
            ]
          },
          "metadata": {},
          "execution_count": 8
        }
      ]
    },
    {
      "cell_type": "code",
      "source": [
        "Xtest"
      ],
      "metadata": {
        "colab": {
          "base_uri": "https://localhost:8080/",
          "height": 423
        },
        "id": "-0IxM62gt9c6",
        "outputId": "eb68d317-2d0c-4175-a7c9-fe782d9af9b2"
      },
      "execution_count": null,
      "outputs": [
        {
          "output_type": "execute_result",
          "data": {
            "text/plain": [
              "     const  Pregnancies  Glucose  BloodPressure  SkinThickness  Insulin   BMI  \\\n",
              "668    1.0            6       98             58             33      190  34.0   \n",
              "324    1.0            2      112             75             32        0  35.7   \n",
              "624    1.0            2      108             64              0        0  30.8   \n",
              "690    1.0            8      107             80              0        0  24.6   \n",
              "473    1.0            7      136             90              0        0  29.9   \n",
              "..     ...          ...      ...            ...            ...      ...   ...   \n",
              "355    1.0            9      165             88              0        0  30.4   \n",
              "534    1.0            1       77             56             30       56  33.3   \n",
              "344    1.0            8       95             72              0        0  36.8   \n",
              "296    1.0            2      146             70             38      360  28.0   \n",
              "462    1.0            8       74             70             40       49  35.3   \n",
              "\n",
              "     DiabetesPedigreeFunction  Age  \n",
              "668                     0.430   43  \n",
              "324                     0.148   21  \n",
              "624                     0.158   21  \n",
              "690                     0.856   34  \n",
              "473                     0.210   50  \n",
              "..                        ...  ...  \n",
              "355                     0.302   49  \n",
              "534                     1.251   24  \n",
              "344                     0.485   57  \n",
              "296                     0.337   29  \n",
              "462                     0.705   39  \n",
              "\n",
              "[154 rows x 9 columns]"
            ],
            "text/html": [
              "\n",
              "  <div id=\"df-de394871-d05c-4eea-bbb8-541ed33b7012\" class=\"colab-df-container\">\n",
              "    <div>\n",
              "<style scoped>\n",
              "    .dataframe tbody tr th:only-of-type {\n",
              "        vertical-align: middle;\n",
              "    }\n",
              "\n",
              "    .dataframe tbody tr th {\n",
              "        vertical-align: top;\n",
              "    }\n",
              "\n",
              "    .dataframe thead th {\n",
              "        text-align: right;\n",
              "    }\n",
              "</style>\n",
              "<table border=\"1\" class=\"dataframe\">\n",
              "  <thead>\n",
              "    <tr style=\"text-align: right;\">\n",
              "      <th></th>\n",
              "      <th>const</th>\n",
              "      <th>Pregnancies</th>\n",
              "      <th>Glucose</th>\n",
              "      <th>BloodPressure</th>\n",
              "      <th>SkinThickness</th>\n",
              "      <th>Insulin</th>\n",
              "      <th>BMI</th>\n",
              "      <th>DiabetesPedigreeFunction</th>\n",
              "      <th>Age</th>\n",
              "    </tr>\n",
              "  </thead>\n",
              "  <tbody>\n",
              "    <tr>\n",
              "      <th>668</th>\n",
              "      <td>1.0</td>\n",
              "      <td>6</td>\n",
              "      <td>98</td>\n",
              "      <td>58</td>\n",
              "      <td>33</td>\n",
              "      <td>190</td>\n",
              "      <td>34.0</td>\n",
              "      <td>0.430</td>\n",
              "      <td>43</td>\n",
              "    </tr>\n",
              "    <tr>\n",
              "      <th>324</th>\n",
              "      <td>1.0</td>\n",
              "      <td>2</td>\n",
              "      <td>112</td>\n",
              "      <td>75</td>\n",
              "      <td>32</td>\n",
              "      <td>0</td>\n",
              "      <td>35.7</td>\n",
              "      <td>0.148</td>\n",
              "      <td>21</td>\n",
              "    </tr>\n",
              "    <tr>\n",
              "      <th>624</th>\n",
              "      <td>1.0</td>\n",
              "      <td>2</td>\n",
              "      <td>108</td>\n",
              "      <td>64</td>\n",
              "      <td>0</td>\n",
              "      <td>0</td>\n",
              "      <td>30.8</td>\n",
              "      <td>0.158</td>\n",
              "      <td>21</td>\n",
              "    </tr>\n",
              "    <tr>\n",
              "      <th>690</th>\n",
              "      <td>1.0</td>\n",
              "      <td>8</td>\n",
              "      <td>107</td>\n",
              "      <td>80</td>\n",
              "      <td>0</td>\n",
              "      <td>0</td>\n",
              "      <td>24.6</td>\n",
              "      <td>0.856</td>\n",
              "      <td>34</td>\n",
              "    </tr>\n",
              "    <tr>\n",
              "      <th>473</th>\n",
              "      <td>1.0</td>\n",
              "      <td>7</td>\n",
              "      <td>136</td>\n",
              "      <td>90</td>\n",
              "      <td>0</td>\n",
              "      <td>0</td>\n",
              "      <td>29.9</td>\n",
              "      <td>0.210</td>\n",
              "      <td>50</td>\n",
              "    </tr>\n",
              "    <tr>\n",
              "      <th>...</th>\n",
              "      <td>...</td>\n",
              "      <td>...</td>\n",
              "      <td>...</td>\n",
              "      <td>...</td>\n",
              "      <td>...</td>\n",
              "      <td>...</td>\n",
              "      <td>...</td>\n",
              "      <td>...</td>\n",
              "      <td>...</td>\n",
              "    </tr>\n",
              "    <tr>\n",
              "      <th>355</th>\n",
              "      <td>1.0</td>\n",
              "      <td>9</td>\n",
              "      <td>165</td>\n",
              "      <td>88</td>\n",
              "      <td>0</td>\n",
              "      <td>0</td>\n",
              "      <td>30.4</td>\n",
              "      <td>0.302</td>\n",
              "      <td>49</td>\n",
              "    </tr>\n",
              "    <tr>\n",
              "      <th>534</th>\n",
              "      <td>1.0</td>\n",
              "      <td>1</td>\n",
              "      <td>77</td>\n",
              "      <td>56</td>\n",
              "      <td>30</td>\n",
              "      <td>56</td>\n",
              "      <td>33.3</td>\n",
              "      <td>1.251</td>\n",
              "      <td>24</td>\n",
              "    </tr>\n",
              "    <tr>\n",
              "      <th>344</th>\n",
              "      <td>1.0</td>\n",
              "      <td>8</td>\n",
              "      <td>95</td>\n",
              "      <td>72</td>\n",
              "      <td>0</td>\n",
              "      <td>0</td>\n",
              "      <td>36.8</td>\n",
              "      <td>0.485</td>\n",
              "      <td>57</td>\n",
              "    </tr>\n",
              "    <tr>\n",
              "      <th>296</th>\n",
              "      <td>1.0</td>\n",
              "      <td>2</td>\n",
              "      <td>146</td>\n",
              "      <td>70</td>\n",
              "      <td>38</td>\n",
              "      <td>360</td>\n",
              "      <td>28.0</td>\n",
              "      <td>0.337</td>\n",
              "      <td>29</td>\n",
              "    </tr>\n",
              "    <tr>\n",
              "      <th>462</th>\n",
              "      <td>1.0</td>\n",
              "      <td>8</td>\n",
              "      <td>74</td>\n",
              "      <td>70</td>\n",
              "      <td>40</td>\n",
              "      <td>49</td>\n",
              "      <td>35.3</td>\n",
              "      <td>0.705</td>\n",
              "      <td>39</td>\n",
              "    </tr>\n",
              "  </tbody>\n",
              "</table>\n",
              "<p>154 rows × 9 columns</p>\n",
              "</div>\n",
              "    <div class=\"colab-df-buttons\">\n",
              "\n",
              "  <div class=\"colab-df-container\">\n",
              "    <button class=\"colab-df-convert\" onclick=\"convertToInteractive('df-de394871-d05c-4eea-bbb8-541ed33b7012')\"\n",
              "            title=\"Convert this dataframe to an interactive table.\"\n",
              "            style=\"display:none;\">\n",
              "\n",
              "  <svg xmlns=\"http://www.w3.org/2000/svg\" height=\"24px\" viewBox=\"0 -960 960 960\">\n",
              "    <path d=\"M120-120v-720h720v720H120Zm60-500h600v-160H180v160Zm220 220h160v-160H400v160Zm0 220h160v-160H400v160ZM180-400h160v-160H180v160Zm440 0h160v-160H620v160ZM180-180h160v-160H180v160Zm440 0h160v-160H620v160Z\"/>\n",
              "  </svg>\n",
              "    </button>\n",
              "\n",
              "  <style>\n",
              "    .colab-df-container {\n",
              "      display:flex;\n",
              "      gap: 12px;\n",
              "    }\n",
              "\n",
              "    .colab-df-convert {\n",
              "      background-color: #E8F0FE;\n",
              "      border: none;\n",
              "      border-radius: 50%;\n",
              "      cursor: pointer;\n",
              "      display: none;\n",
              "      fill: #1967D2;\n",
              "      height: 32px;\n",
              "      padding: 0 0 0 0;\n",
              "      width: 32px;\n",
              "    }\n",
              "\n",
              "    .colab-df-convert:hover {\n",
              "      background-color: #E2EBFA;\n",
              "      box-shadow: 0px 1px 2px rgba(60, 64, 67, 0.3), 0px 1px 3px 1px rgba(60, 64, 67, 0.15);\n",
              "      fill: #174EA6;\n",
              "    }\n",
              "\n",
              "    .colab-df-buttons div {\n",
              "      margin-bottom: 4px;\n",
              "    }\n",
              "\n",
              "    [theme=dark] .colab-df-convert {\n",
              "      background-color: #3B4455;\n",
              "      fill: #D2E3FC;\n",
              "    }\n",
              "\n",
              "    [theme=dark] .colab-df-convert:hover {\n",
              "      background-color: #434B5C;\n",
              "      box-shadow: 0px 1px 3px 1px rgba(0, 0, 0, 0.15);\n",
              "      filter: drop-shadow(0px 1px 2px rgba(0, 0, 0, 0.3));\n",
              "      fill: #FFFFFF;\n",
              "    }\n",
              "  </style>\n",
              "\n",
              "    <script>\n",
              "      const buttonEl =\n",
              "        document.querySelector('#df-de394871-d05c-4eea-bbb8-541ed33b7012 button.colab-df-convert');\n",
              "      buttonEl.style.display =\n",
              "        google.colab.kernel.accessAllowed ? 'block' : 'none';\n",
              "\n",
              "      async function convertToInteractive(key) {\n",
              "        const element = document.querySelector('#df-de394871-d05c-4eea-bbb8-541ed33b7012');\n",
              "        const dataTable =\n",
              "          await google.colab.kernel.invokeFunction('convertToInteractive',\n",
              "                                                    [key], {});\n",
              "        if (!dataTable) return;\n",
              "\n",
              "        const docLinkHtml = 'Like what you see? Visit the ' +\n",
              "          '<a target=\"_blank\" href=https://colab.research.google.com/notebooks/data_table.ipynb>data table notebook</a>'\n",
              "          + ' to learn more about interactive tables.';\n",
              "        element.innerHTML = '';\n",
              "        dataTable['output_type'] = 'display_data';\n",
              "        await google.colab.output.renderOutput(dataTable, element);\n",
              "        const docLink = document.createElement('div');\n",
              "        docLink.innerHTML = docLinkHtml;\n",
              "        element.appendChild(docLink);\n",
              "      }\n",
              "    </script>\n",
              "  </div>\n",
              "\n",
              "\n",
              "<div id=\"df-b4b6c2d8-c1eb-4c6c-8e8c-76f1ba7ff676\">\n",
              "  <button class=\"colab-df-quickchart\" onclick=\"quickchart('df-b4b6c2d8-c1eb-4c6c-8e8c-76f1ba7ff676')\"\n",
              "            title=\"Suggest charts\"\n",
              "            style=\"display:none;\">\n",
              "\n",
              "<svg xmlns=\"http://www.w3.org/2000/svg\" height=\"24px\"viewBox=\"0 0 24 24\"\n",
              "     width=\"24px\">\n",
              "    <g>\n",
              "        <path d=\"M19 3H5c-1.1 0-2 .9-2 2v14c0 1.1.9 2 2 2h14c1.1 0 2-.9 2-2V5c0-1.1-.9-2-2-2zM9 17H7v-7h2v7zm4 0h-2V7h2v10zm4 0h-2v-4h2v4z\"/>\n",
              "    </g>\n",
              "</svg>\n",
              "  </button>\n",
              "\n",
              "<style>\n",
              "  .colab-df-quickchart {\n",
              "      --bg-color: #E8F0FE;\n",
              "      --fill-color: #1967D2;\n",
              "      --hover-bg-color: #E2EBFA;\n",
              "      --hover-fill-color: #174EA6;\n",
              "      --disabled-fill-color: #AAA;\n",
              "      --disabled-bg-color: #DDD;\n",
              "  }\n",
              "\n",
              "  [theme=dark] .colab-df-quickchart {\n",
              "      --bg-color: #3B4455;\n",
              "      --fill-color: #D2E3FC;\n",
              "      --hover-bg-color: #434B5C;\n",
              "      --hover-fill-color: #FFFFFF;\n",
              "      --disabled-bg-color: #3B4455;\n",
              "      --disabled-fill-color: #666;\n",
              "  }\n",
              "\n",
              "  .colab-df-quickchart {\n",
              "    background-color: var(--bg-color);\n",
              "    border: none;\n",
              "    border-radius: 50%;\n",
              "    cursor: pointer;\n",
              "    display: none;\n",
              "    fill: var(--fill-color);\n",
              "    height: 32px;\n",
              "    padding: 0;\n",
              "    width: 32px;\n",
              "  }\n",
              "\n",
              "  .colab-df-quickchart:hover {\n",
              "    background-color: var(--hover-bg-color);\n",
              "    box-shadow: 0 1px 2px rgba(60, 64, 67, 0.3), 0 1px 3px 1px rgba(60, 64, 67, 0.15);\n",
              "    fill: var(--button-hover-fill-color);\n",
              "  }\n",
              "\n",
              "  .colab-df-quickchart-complete:disabled,\n",
              "  .colab-df-quickchart-complete:disabled:hover {\n",
              "    background-color: var(--disabled-bg-color);\n",
              "    fill: var(--disabled-fill-color);\n",
              "    box-shadow: none;\n",
              "  }\n",
              "\n",
              "  .colab-df-spinner {\n",
              "    border: 2px solid var(--fill-color);\n",
              "    border-color: transparent;\n",
              "    border-bottom-color: var(--fill-color);\n",
              "    animation:\n",
              "      spin 1s steps(1) infinite;\n",
              "  }\n",
              "\n",
              "  @keyframes spin {\n",
              "    0% {\n",
              "      border-color: transparent;\n",
              "      border-bottom-color: var(--fill-color);\n",
              "      border-left-color: var(--fill-color);\n",
              "    }\n",
              "    20% {\n",
              "      border-color: transparent;\n",
              "      border-left-color: var(--fill-color);\n",
              "      border-top-color: var(--fill-color);\n",
              "    }\n",
              "    30% {\n",
              "      border-color: transparent;\n",
              "      border-left-color: var(--fill-color);\n",
              "      border-top-color: var(--fill-color);\n",
              "      border-right-color: var(--fill-color);\n",
              "    }\n",
              "    40% {\n",
              "      border-color: transparent;\n",
              "      border-right-color: var(--fill-color);\n",
              "      border-top-color: var(--fill-color);\n",
              "    }\n",
              "    60% {\n",
              "      border-color: transparent;\n",
              "      border-right-color: var(--fill-color);\n",
              "    }\n",
              "    80% {\n",
              "      border-color: transparent;\n",
              "      border-right-color: var(--fill-color);\n",
              "      border-bottom-color: var(--fill-color);\n",
              "    }\n",
              "    90% {\n",
              "      border-color: transparent;\n",
              "      border-bottom-color: var(--fill-color);\n",
              "    }\n",
              "  }\n",
              "</style>\n",
              "\n",
              "  <script>\n",
              "    async function quickchart(key) {\n",
              "      const quickchartButtonEl =\n",
              "        document.querySelector('#' + key + ' button');\n",
              "      quickchartButtonEl.disabled = true;  // To prevent multiple clicks.\n",
              "      quickchartButtonEl.classList.add('colab-df-spinner');\n",
              "      try {\n",
              "        const charts = await google.colab.kernel.invokeFunction(\n",
              "            'suggestCharts', [key], {});\n",
              "      } catch (error) {\n",
              "        console.error('Error during call to suggestCharts:', error);\n",
              "      }\n",
              "      quickchartButtonEl.classList.remove('colab-df-spinner');\n",
              "      quickchartButtonEl.classList.add('colab-df-quickchart-complete');\n",
              "    }\n",
              "    (() => {\n",
              "      let quickchartButtonEl =\n",
              "        document.querySelector('#df-b4b6c2d8-c1eb-4c6c-8e8c-76f1ba7ff676 button');\n",
              "      quickchartButtonEl.style.display =\n",
              "        google.colab.kernel.accessAllowed ? 'block' : 'none';\n",
              "    })();\n",
              "  </script>\n",
              "</div>\n",
              "    </div>\n",
              "  </div>\n"
            ]
          },
          "metadata": {},
          "execution_count": 9
        }
      ]
    },
    {
      "cell_type": "code",
      "source": [
        "ytest"
      ],
      "metadata": {
        "colab": {
          "base_uri": "https://localhost:8080/"
        },
        "id": "H8tFhmr-t_Y_",
        "outputId": "aa87ace3-1cf0-4a4f-df88-5f62dd7177cf"
      },
      "execution_count": null,
      "outputs": [
        {
          "output_type": "execute_result",
          "data": {
            "text/plain": [
              "668    0\n",
              "324    0\n",
              "624    0\n",
              "690    0\n",
              "473    0\n",
              "      ..\n",
              "355    1\n",
              "534    0\n",
              "344    0\n",
              "296    1\n",
              "462    0\n",
              "Name: Outcome, Length: 154, dtype: int64"
            ]
          },
          "metadata": {},
          "execution_count": 10
        }
      ]
    },
    {
      "cell_type": "markdown",
      "source": [
        "Treinando o modelo com os casos de teste:"
      ],
      "metadata": {
        "id": "xgIpKsSrB9Q0"
      }
    },
    {
      "cell_type": "code",
      "source": [
        "modelo_logit = sm.Logit(ytrain, Xtrain)\n",
        "resultado_logit = modelo_logit.fit()\n",
        "print(resultado_logit.summary())"
      ],
      "metadata": {
        "colab": {
          "base_uri": "https://localhost:8080/"
        },
        "id": "vxklJ9cjuvWU",
        "outputId": "0bbfebe6-540c-4c38-aa49-b739b3cf5dff"
      },
      "execution_count": null,
      "outputs": [
        {
          "output_type": "stream",
          "name": "stdout",
          "text": [
            "Optimization terminated successfully.\n",
            "         Current function value: 0.467835\n",
            "         Iterations 6\n",
            "                           Logit Regression Results                           \n",
            "==============================================================================\n",
            "Dep. Variable:                Outcome   No. Observations:                  614\n",
            "Model:                          Logit   Df Residuals:                      605\n",
            "Method:                           MLE   Df Model:                            8\n",
            "Date:                Mon, 13 Nov 2023   Pseudo R-squ.:                  0.2752\n",
            "Time:                        12:56:07   Log-Likelihood:                -287.25\n",
            "converged:                       True   LL-Null:                       -396.34\n",
            "Covariance Type:            nonrobust   LLR p-value:                 9.311e-43\n",
            "============================================================================================\n",
            "                               coef    std err          z      P>|z|      [0.025      0.975]\n",
            "--------------------------------------------------------------------------------------------\n",
            "const                       -9.0359      0.837    -10.802      0.000     -10.675      -7.396\n",
            "Pregnancies                  0.0645      0.036      1.791      0.073      -0.006       0.135\n",
            "Glucose                      0.0341      0.004      8.055      0.000       0.026       0.042\n",
            "BloodPressure               -0.0139      0.006     -2.260      0.024      -0.026      -0.002\n",
            "SkinThickness                0.0031      0.008      0.397      0.691      -0.012       0.019\n",
            "Insulin                     -0.0018      0.001     -1.782      0.075      -0.004       0.000\n",
            "BMI                          0.1026      0.017      5.948      0.000       0.069       0.136\n",
            "DiabetesPedigreeFunction     0.6945      0.330      2.107      0.035       0.049       1.341\n",
            "Age                          0.0371      0.011      3.400      0.001       0.016       0.058\n",
            "============================================================================================\n"
          ]
        }
      ]
    },
    {
      "cell_type": "markdown",
      "source": [
        "Da tabela acima, destaco que o modelo convergiu com 6 iterações e também os valores dos coeficientes usados para calcular o Componente Sistemático."
      ],
      "metadata": {
        "id": "OxWO6nZcCDZk"
      }
    },
    {
      "cell_type": "markdown",
      "source": [
        "Agora, é necessário executar os casos de teste e avaliar o desempenho do modelo. Vale a pena destacar que o modelo treinado calcula apenas o Componente Sistemático e determina a probabilidade por meio da função Logit. Ainda é preciso calcular o Componente Aleatório, o qual utiliza a probabilidade obtida para gerar o valor da variável resposta, seguindo uma distribuição de Bernoulli.\n",
        "\n",
        "Uma prática comum é desconsiderar o Componente Aleatório e, se a probabilidade for inferior a 0.5, definir a variável resposta como 0; caso contrário, atribuir o valor 1. Essa abordagem demonstrou métricas superiores nos testes realizados, entretanto, optamos por manter o Componente Aleatório, pois este está mais alinhado com o escopo discutido neste trabalho."
      ],
      "metadata": {
        "id": "eprRsGy1DgpX"
      }
    },
    {
      "cell_type": "code",
      "source": [
        "#Calcula as probabilidades/saída dos casos de teste\n",
        "ypred = resultado_logit.predict(Xtest)\n",
        "\n",
        "#Para cada saída do modelo\n",
        "for i in range(len(ypred)):\n",
        "    #Armazena a saída em uma variável p\n",
        "    p=ypred.iloc(0)[i]\n",
        "\n",
        "    #Define a i-ésima saída como uma escolha entre 0 e 1 com probabilidade 1-p e p respectivamente\n",
        "    ypred.iloc(0)[i]=np.random.choice([0, 1], p=[1-p, p])"
      ],
      "metadata": {
        "id": "_kgWGiug0CM7"
      },
      "execution_count": null,
      "outputs": []
    },
    {
      "cell_type": "markdown",
      "source": [
        "Exibindo as métricas obtidas pelo modelo. É importante destacar que as métricas podem variar de execução em execução pois há aleatoriedade envolvida tanto na divisão dos dados em casos de teste e treino quanto no Componente Aleatório do GLM"
      ],
      "metadata": {
        "id": "6j8mmUhTGly1"
      }
    },
    {
      "cell_type": "code",
      "source": [
        "#Calcula a acurácia do modelo\n",
        "accuracy = accuracy_score(ytest, ypred)\n",
        "\n",
        "# Imprimir a acurácia e outras métricas\n",
        "print(f'Acurácia: {accuracy:.4f}')\n",
        "print('Relatório de Classificação:')\n",
        "print(classification_report(ytest, ypred))\n",
        "\n",
        "#Calcula a matriz de confusão\n",
        "cm = confusion_matrix(ytest, ypred)\n",
        "cmap = sns.diverging_palette(240, 10, as_cmap=True)\n",
        "sns.heatmap(cm, cmap=cmap,annot=True, fmt=\".0f\")\n",
        "\n",
        "#Exibe a matriz de confusão\n",
        "plt.xlabel('y predito')\n",
        "plt.ylabel('y real')\n",
        "plt.title(f'Acurácia: {accuracy}')\n",
        "plt.show()\n",
        "\n",
        "print(45*\"\\n\")"
      ],
      "metadata": {
        "colab": {
          "base_uri": "https://localhost:8080/",
          "height": 1436
        },
        "id": "YX-9oEHN32xp",
        "outputId": "22487d8d-1f65-499f-cff0-be46a16f0d82"
      },
      "execution_count": null,
      "outputs": [
        {
          "output_type": "stream",
          "name": "stdout",
          "text": [
            "Acurácia: 0.7143\n",
            "Relatório de Classificação:\n",
            "              precision    recall  f1-score   support\n",
            "\n",
            "           0       0.80      0.75      0.77        99\n",
            "           1       0.59      0.65      0.62        55\n",
            "\n",
            "    accuracy                           0.71       154\n",
            "   macro avg       0.69      0.70      0.70       154\n",
            "weighted avg       0.72      0.71      0.72       154\n",
            "\n"
          ]
        },
        {
          "output_type": "display_data",
          "data": {
            "text/plain": [
              "<Figure size 640x480 with 2 Axes>"
            ],
            "image/png": "[encoded data removed]"
          },
          "metadata": {}
        },
        {
          "output_type": "stream",
          "name": "stdout",
          "text": [
            "\n",
            "\n",
            "\n",
            "\n",
            "\n",
            "\n",
            "\n",
            "\n",
            "\n",
            "\n",
            "\n",
            "\n",
            "\n",
            "\n",
            "\n",
            "\n",
            "\n",
            "\n",
            "\n",
            "\n",
            "\n",
            "\n",
            "\n",
            "\n",
            "\n",
            "\n",
            "\n",
            "\n",
            "\n",
            "\n",
            "\n",
            "\n",
            "\n",
            "\n",
            "\n",
            "\n",
            "\n",
            "\n",
            "\n",
            "\n",
            "\n",
            "\n",
            "\n",
            "\n",
            "\n",
            "\n"
          ]
        }
      ]
    },
    {
      "cell_type": "markdown",
      "source": [
        "Ao analisarmos as métricas apresentadas, destacamos os seguintes pontos: a acurácia variou entre 65% e 75%. Acreditamos que essa variação ocorre devido ao tamanho reduzido do conjunto de dados. Consequentemente, quando o Componente Aleatório altera a classificação de alguns pontos, essas mudanças, mesmo sendo pontuais, representam uma significativa porcentagem do conjunto de dados. Além disso, observou-se certa dificuldade do modelo em classificar corretamente os casos em que y=1. Esta dificuldade pode ser atribuída ao desbalanceamento do conjunto de dados, que conta com poucas instâncias em que y=1, dificultando o treinamento eficaz do modelo para essa classe."
      ],
      "metadata": {
        "id": "qypA5h6NIadk"
      }
    },
    {
      "cell_type": "markdown",
      "source": [
        "# **Leave One Out**"
      ],
      "metadata": {
        "id": "LmJZiD-n1Bor"
      }
    },
    {
      "cell_type": "markdown",
      "source": [
        "Para avaliar o modelo usando Leave One Out, usamos a função KFold para dividir o modelo em 768 folds. Para calcular as métricas, contabilizamos o número de falsos positivos, falsos negativos, verdadeiros positivos e verdadeiros negativos. Usamos esses valores para calcular as métricas Precision, Recall e F1. A Acurácia é obtida fazendo a média de todas as acurácias. Da mesma forma que no caso anterior, é necessário usar a probabilidade obtida para calcular o Componente Aleatório"
      ],
      "metadata": {
        "id": "8BYw0P0eVvMY"
      }
    },
    {
      "cell_type": "code",
      "source": [
        "# Configurar a validação cruzada com 768 folds\n",
        "kf = KFold(n_splits=768, shuffle=True, random_state=42)\n",
        "\n",
        "# Listas para armazenar métricas de desempenho em cada fold\n",
        "accuracy_list = []\n",
        "falsos_positivos=0\n",
        "falsos_negativos=0\n",
        "verdadeiros_positivos=0\n",
        "verdadeiros_negativos=0\n",
        "\n",
        "# Iterar sobre os folds\n",
        "for train_index, test_index in kf.split(X):\n",
        "    X_train, X_test = X.iloc[train_index], X.iloc[test_index]\n",
        "    y_train, y_test = y.iloc[train_index], y.iloc[test_index]\n",
        "\n",
        "    # Ajustar o modelo aos dados de treino\n",
        "    model = sm.Logit(y_train, X_train)\n",
        "    result = model.fit(disp=0)  # Ajustar o modelo com disp=0 para suprimir a saída\n",
        "\n",
        "    # Prever as probabilidades no conjunto de teste\n",
        "    y_pred= result.predict(X_test)\n",
        "\n",
        "    # Converter as probabilidades em classes (0 ou 1) usando um distribuição de Bernoulli\n",
        "    for i in range(len(y_pred)):\n",
        "      p=y_pred.iloc(0)[i]\n",
        "      y_pred.iloc(0)[i]=np.random.choice([0, 1], p=[1-p, p])\n",
        "\n",
        "    # Calcular a precisão e armazenar na lista\n",
        "    accuracy = accuracy_score(y_test, y_pred)\n",
        "    accuracy_list.append(accuracy)\n",
        "\n",
        "    #Contabiliza se o modelo acertou ou não\n",
        "    if y_test.iloc(0)[0]== 0 and y_pred.iloc(0)[0]==0.0:\n",
        "      verdadeiros_negativos+=1\n",
        "\n",
        "    if y_test.iloc(0)[0]== 1 and y_pred.iloc(0)[0]==1.0:\n",
        "      verdadeiros_positivos+=1\n",
        "\n",
        "    if y_test.iloc(0)[0]== 0 and y_pred.iloc(0)[0]==1.0:\n",
        "      falsos_positivos+=1\n",
        "\n",
        "    if y_test.iloc(0)[0]== 1 and y_pred.iloc(0)[0]==0.0:\n",
        "      falsos_negativos+=1\n",
        "\n",
        "# Imprimir a acurácia média sobre todos os folds\n",
        "print(f'Acurácia média: {np.mean(accuracy_list):.4f}')\n",
        "\n",
        "#Calcula a precisão das duas classes\n",
        "precision_1=verdadeiros_positivos/(verdadeiros_positivos+falsos_positivos)\n",
        "precision_0=verdadeiros_negativos/(verdadeiros_negativos+falsos_negativos)\n",
        "\n",
        "#Calcula o recall das duas classes\n",
        "recall_1=verdadeiros_positivos/(verdadeiros_positivos+falsos_negativos)\n",
        "recall_0=verdadeiros_negativos/(verdadeiros_negativos+falsos_positivos)\n",
        "\n",
        "#Calcula a F1 das duas classes\n",
        "f1_1=(2*precision_1*recall_1)/(precision_1+recall_1)\n",
        "f1_0=(2*precision_0*recall_0)/(precision_0+recall_0)\n",
        "\n",
        "#Exibe os resultados obtidos\n",
        "print(f'precicion 0: {precision_0}')\n",
        "print(f'precicion 1: {precision_1}')\n",
        "\n",
        "print(f'recall 0: {recall_0}')\n",
        "print(f'recall 1: {recall_1}')\n",
        "\n",
        "print(f'f1 0: {f1_0}')\n",
        "print(f'f1 1: {f1_1}')\n",
        "\n",
        "#Calcula a matriz de confusão\n",
        "cm = [[verdadeiros_negativos, falsos_positivos],[falsos_negativos, verdadeiros_positivos]]\n",
        "cmap = sns.diverging_palette(240, 10, as_cmap=True)\n",
        "sns.heatmap(cm, cmap=cmap,annot=True, fmt=\".0f\")\n",
        "\n",
        "#Exibe a matriz de confusão\n",
        "plt.xlabel('y predito')\n",
        "plt.ylabel('y real')\n",
        "plt.title(f'Acurácia: {np.mean(accuracy_list)}')\n",
        "plt.show()\n",
        "\n",
        "print(28*\"\\n\")"
      ],
      "metadata": {
        "colab": {
          "base_uri": "https://localhost:8080/",
          "height": 1064
        },
        "id": "rBgytp0W1DW_",
        "outputId": "844bef61-e93b-44b6-f488-980ca9e9d37a"
      },
      "execution_count": null,
      "outputs": [
        {
          "output_type": "stream",
          "name": "stdout",
          "text": [
            "Acurácia média: 0.7044\n",
            "precicion 0: 0.7746478873239436\n",
            "precicion 1: 0.5756457564575646\n",
            "recall 0: 0.77\n",
            "recall 1: 0.582089552238806\n",
            "f1 0: 0.7723169508525577\n",
            "f1 1: 0.5788497217068646\n"
          ]
        },
        {
          "output_type": "display_data",
          "data": {
            "text/plain": [
              "<Figure size 640x480 with 2 Axes>"
            ],
            "image/png": "[encoded data removed]"
          },
          "metadata": {}
        },
        {
          "output_type": "stream",
          "name": "stdout",
          "text": [
            "\n",
            "\n",
            "\n",
            "\n",
            "\n",
            "\n",
            "\n",
            "\n",
            "\n",
            "\n",
            "\n",
            "\n",
            "\n",
            "\n",
            "\n",
            "\n",
            "\n",
            "\n",
            "\n",
            "\n",
            "\n",
            "\n",
            "\n",
            "\n",
            "\n",
            "\n",
            "\n",
            "\n",
            "\n"
          ]
        }
      ]
    },
    {
      "cell_type": "markdown",
      "source": [
        "Pode-se observar que a validação utilizando Leave One Out apresenta resultados similares aos obtidos anteriormente. As métricas ainda não são consistentes devido à aleatoriedade do Componente Aleatório, mas variam menos. O modelo persiste em demonstrar certa dificuldade em classificar corretamente a classe 1, conforme indicam as métricas recall 1 e precision 1. Acreditamos que esta dificuldade persiste pelo mesmo motivo mencionado anteriormente: o desbalanceamento do conjunto de dados."
      ],
      "metadata": {
        "id": "XOHVye83ZKug"
      }
    },
    {
      "cell_type": "markdown",
      "source": [
        "# **Treino com todos os Dados**"
      ],
      "metadata": {
        "id": "tDlSo-lt9xGW"
      }
    },
    {
      "cell_type": "markdown",
      "source": [
        "Dado o sucesso obtido ao avaliar a adequação da Regressão Logística aos dados, podemos proceder treinando um modelo com todos os dados disponíveis e avaliando suas métricas em comparação com as saídas esperadas. É importante ressaltar que tal abordagem pode resultar em uma avaliação tendenciosa, no entanto, já verificamos que a Regressão Logística demonstrou ser uma solução eficaz para o problema, empregando técnicas como a divisão do conjunto de treino e teste, assim como o Leave One Out."
      ],
      "metadata": {
        "id": "qEm9-NDdXsaT"
      }
    },
    {
      "cell_type": "code",
      "source": [
        "#Treina o modelo com todos os dados\n",
        "model = sm.Logit(y, X)\n",
        "resultado_logit = model.fit(disp=0)\n",
        "\n",
        "#Calcula as predições do modelo e converte as probabilidades em uma classe 0 ou 1 usando distribuição de Bernoulli\n",
        "ypred = resultado_logit.predict(X)\n",
        "for i in range(len(ypred)):\n",
        "    p=ypred.iloc(0)[i]\n",
        "    ypred.iloc(0)[i]=np.random.choice([0, 1], p=[1-p, p])\n",
        "\n",
        "#Calcula a acurácia do modelo\n",
        "accuracy = accuracy_score(y, ypred)\n",
        "\n",
        "# Imprimir a acurácia e outras métricas\n",
        "print(f'Acurácia: {accuracy:.4f}')\n",
        "print('Relatório de Classificação:')\n",
        "print(classification_report(y, ypred))\n",
        "\n",
        "#Calcula a matriz de confusão\n",
        "cm = confusion_matrix(y, ypred)\n",
        "sns.heatmap(cm, annot=True, fmt=\".0f\")\n",
        "\n",
        "#Exibe a matriz de confusão\n",
        "plt.xlabel('y predito')\n",
        "plt.ylabel('y real')\n",
        "plt.title(f'Acurácia: {accuracy}')\n",
        "plt.show()\n",
        "\n",
        "print(\"\\n\")"
      ],
      "metadata": {
        "colab": {
          "base_uri": "https://localhost:8080/",
          "height": 698
        },
        "id": "c18fdqQ69wJE",
        "outputId": "94c10291-53bd-4f2c-cebb-ac60849d4c34"
      },
      "execution_count": null,
      "outputs": [
        {
          "output_type": "stream",
          "name": "stdout",
          "text": [
            "Acurácia: 0.7070\n",
            "Relatório de Classificação:\n",
            "              precision    recall  f1-score   support\n",
            "\n",
            "           0       0.78      0.76      0.77       500\n",
            "           1       0.58      0.61      0.59       268\n",
            "\n",
            "    accuracy                           0.71       768\n",
            "   macro avg       0.68      0.68      0.68       768\n",
            "weighted avg       0.71      0.71      0.71       768\n",
            "\n"
          ]
        },
        {
          "output_type": "display_data",
          "data": {
            "text/plain": [
              "<Figure size 640x480 with 2 Axes>"
            ],
            "image/png": "[encoded data removed]"
          },
          "metadata": {}
        },
        {
          "output_type": "stream",
          "name": "stdout",
          "text": [
            "\n",
            "\n"
          ]
        }
      ]
    },
    {
      "cell_type": "markdown",
      "source": [
        "Pode-se observar resultados similares aos obtidos anteriormente. As métricas ainda não são consistentes devido à aleatoriedade do Componente Aleatório, mas variam menos. O modelo persiste em demonstrar certa dificuldade em classificar corretamente a classe 1, conforme indicam as métricas recall 1 e precision 1. Acreditamos que esta dificuldade persiste pelo mesmo motivo mencionado anteriormente: o desbalanceamento do conjunto de dados."
      ],
      "metadata": {
        "id": "FJFHB0apaZTA"
      }
    },
    {
      "cell_type": "markdown",
      "source": [
        "# **Conclusão**"
      ],
      "metadata": {
        "id": "LQRhYpgseNJn"
      }
    },
    {
      "cell_type": "markdown",
      "source": [
        "Consideramos a execução do trabalho satisfatória. O conjunto de dados, embora simplificado com poucas features, apresenta desafios poispossui poucas amostras e desbalanceamento. O modelo mostrou um bom desempenho, contudo, enquanto um classificador na área de saúde, revelou limitações na identificação confiável de pacientes diabéticos, notadamente em relação aos casos de falsos negativos, reconhecendo a relevância crítica destes em contextos de saúde. De forma geral, a aplicação prática dos conceitos discutidos em sala de aula proporcionou uma compreensão mais aprofundada das métricas, técnicas de validação e aprimorou nossa habilidade de avaliar GLMs."
      ],
      "metadata": {
        "id": "OREzuD3OePgP"
      }
    }
  ]
}

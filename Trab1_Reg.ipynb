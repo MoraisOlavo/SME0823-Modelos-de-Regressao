{
  "nbformat": 4,
  "nbformat_minor": 0,
  "metadata": {
    "colab": {
      "provenance": []
    },
    "kernelspec": {
      "name": "python3",
      "display_name": "Python 3"
    },
    "language_info": {
      "name": "python"
    }
  },
  "cells": [
    {
      "cell_type": "markdown",
      "source": [
        "**Trabalho 1 - SME0823 Modelos de Regressão e Aprendizado Supervisionado II**\n"
      ],
      "metadata": {
        "id": "8yG4NBmHYfnq"
      }
    },
    {
      "cell_type": "markdown",
      "source": [
        "Gustavo Terra Brandão da Silva - NUSP:11274935\n",
        "\n",
        "Olavo Morais Borges Pereira - NUSP:11297792"
      ],
      "metadata": {
        "id": "aOTGC6lWY7_d"
      }
    },
    {
      "cell_type": "markdown",
      "source": [
        "**Questão 4.5**"
      ],
      "metadata": {
        "id": "UKBaTdHuY8xp"
      }
    },
    {
      "cell_type": "code",
      "execution_count": null,
      "metadata": {
        "id": "iqgTgIBCujjA"
      },
      "outputs": [],
      "source": [
        "import numpy as np\n",
        "import pandas as pd\n",
        "import statsmodels.api as sm\n",
        "!pip install numpy\n",
        "!pip install pandas\n",
        "!pip install statsmodels"
      ]
    },
    {
      "cell_type": "code",
      "source": [
        "# Dados\n",
        "A = [1.125,1.125,1.125,1.125,1.125,1.125,1.125,1.125,1.125,1.121,1.121,1.121,1.121,1.121,1.121,1.121,1.121,1.121,1.123,1.123,1.123,1.123,1.123,1.123,1.123,1.123,1.123]\n",
        "B = [3.5,3.5,3.5,3.0,3.0,3.0,4.0,4.0,4.0,3.5,3.5,3.5,3.0,3.0,3.0,4.0,4.0,4.0,3.5,3.5,3.5,3.0,3.0,3.0,4.0,4.0,4.0]\n",
        "C = [40,50,30,40,50,30,40,50,30,40,50,30,40,50,30,40,50,30,40,50,30,40,50,30,40,50,30]\n",
        "D = [150,120,135,120,135,150,135,150,120,120,135,150,135,150,120,150,120,135,135,150,120,150,120,135,120,135,150]\n",
        "P = [14.0,13.5,18.3,17.4,16.3,13.9,14.1,12.0,12.0,17.0,10.5,15.3,21.0,20.5,19.8,12.3,11.3,10.5,15.2,12.3,12.0,11.1,12.8,13.4,10.3,10.4,11.7]\n",
        "# Converter P para uma resposta binária (por exemplo, 1 se P > limiar, 0 caso contrário)\n",
        "# Aqui, estou assumindo um limiar de 15, mas você pode ajustar conforme necessário\n",
        "df['P_binario'] = np.where(df['P'] > 15, 1, 0)\n",
        "\n",
        "# Adicionar uma constante ao DataFrame (necessário para o modelo)\n",
        "X = sm.add_constant(df[['A', 'B', 'C', 'D']])\n"
      ],
      "metadata": {
        "id": "mUg48jvyu7J_"
      },
      "execution_count": null,
      "outputs": []
    },
    {
      "cell_type": "code",
      "source": [
        "# (a) Regressão logística com ligação logit\n",
        "modelo_logit = sm.Logit(df['P_binario'], X)\n",
        "resultado_logit = modelo_logit.fit()\n",
        "print(\"(a) Resultados da regressão logística com ligação logit:\")\n",
        "print(resultado_logit.summary())"
      ],
      "metadata": {
        "colab": {
          "base_uri": "https://localhost:8080/"
        },
        "id": "MQKGZ-whwj61",
        "outputId": "116ab856-3714-4d42-ffbf-ecb40098abab"
      },
      "execution_count": null,
      "outputs": [
        {
          "output_type": "stream",
          "name": "stdout",
          "text": [
            "Optimization terminated successfully.\n",
            "         Current function value: 0.471573\n",
            "         Iterations 7\n",
            "(a) Resultados da regressão logística com ligação logit:\n",
            "                           Logit Regression Results                           \n",
            "==============================================================================\n",
            "Dep. Variable:              P_binario   No. Observations:                   27\n",
            "Model:                          Logit   Df Residuals:                       22\n",
            "Method:                           MLE   Df Model:                            4\n",
            "Date:                Thu, 28 Sep 2023   Pseudo R-squ.:                  0.2591\n",
            "Time:                        21:59:29   Log-Likelihood:                -12.732\n",
            "converged:                       True   LL-Null:                       -17.186\n",
            "Covariance Type:            nonrobust   LLR p-value:                   0.06347\n",
            "==============================================================================\n",
            "                 coef    std err          z      P>|z|      [0.025      0.975]\n",
            "------------------------------------------------------------------------------\n",
            "const        423.5195    354.913      1.193      0.233    -272.096    1119.135\n",
            "A           -363.2376    314.125     -1.156      0.248    -978.912     252.437\n",
            "B             -3.3013      1.437     -2.297      0.022      -6.118      -0.485\n",
            "C             -0.0390      0.061     -0.639      0.523      -0.159       0.081\n",
            "D             -0.0260      0.041     -0.639      0.523      -0.106       0.054\n",
            "==============================================================================\n"
          ]
        }
      ]
    },
    {
      "cell_type": "code",
      "source": [
        "# (b) Regressão logística com ligação probit\n",
        "modelo_probit = sm.Probit(df['P_binario'], X)\n",
        "resultado_probit = modelo_probit.fit()\n",
        "print(\"\\n(b) Resultados da regressão logística com ligação probit:\")\n",
        "print(resultado_probit.summary())"
      ],
      "metadata": {
        "colab": {
          "base_uri": "https://localhost:8080/"
        },
        "id": "O40i5d1gxT9_",
        "outputId": "b5da1653-a674-4161-8078-4aa5fa0f080e"
      },
      "execution_count": null,
      "outputs": [
        {
          "output_type": "stream",
          "name": "stdout",
          "text": [
            "Optimization terminated successfully.\n",
            "         Current function value: 0.465891\n",
            "         Iterations 7\n",
            "\n",
            "(b) Resultados da regressão logística com ligação probit:\n",
            "                          Probit Regression Results                           \n",
            "==============================================================================\n",
            "Dep. Variable:              P_binario   No. Observations:                   27\n",
            "Model:                         Probit   Df Residuals:                       22\n",
            "Method:                           MLE   Df Model:                            4\n",
            "Date:                Thu, 28 Sep 2023   Pseudo R-squ.:                  0.2681\n",
            "Time:                        21:59:38   Log-Likelihood:                -12.579\n",
            "converged:                       True   LL-Null:                       -17.186\n",
            "Covariance Type:            nonrobust   LLR p-value:                   0.05598\n",
            "==============================================================================\n",
            "                 coef    std err          z      P>|z|      [0.025      0.975]\n",
            "------------------------------------------------------------------------------\n",
            "const        252.6666    210.007      1.203      0.229    -158.940     664.273\n",
            "A           -216.3834    185.994     -1.163      0.245    -580.926     148.159\n",
            "B             -2.0432      0.837     -2.441      0.015      -3.684      -0.403\n",
            "C             -0.0252      0.036     -0.702      0.483      -0.096       0.045\n",
            "D             -0.0158      0.025     -0.640      0.522      -0.064       0.033\n",
            "==============================================================================\n"
          ]
        }
      ]
    },
    {
      "cell_type": "markdown",
      "source": [
        "C) Ambas as regressões, probit e logit, fornecem resultados semelhantes em termos de significância das variáveis. A variável B é a única que é estatisticamente significativa em ambos os modelos. Em termos de ajuste do modelo, a regressão probit tem um ajuste ligeiramente melhor com base no pseudo R-squ. e log-likelihood."
      ],
      "metadata": {
        "id": "x0DbSS2HZx_G"
      }
    },
    {
      "cell_type": "code",
      "source": [
        "# (d) Regressão de Poisson\n",
        "modelo_poisson = sm.Poisson(df['P'], X)\n",
        "resultado_poisson = modelo_poisson.fit()\n",
        "print(\"\\n(d) Resultados da regressão de Poisson:\")\n",
        "print(resultado_poisson.summary())"
      ],
      "metadata": {
        "colab": {
          "base_uri": "https://localhost:8080/"
        },
        "id": "Z4gC2aeqyOAq",
        "outputId": "f8772061-a33b-4b08-fd90-88693e9509ee"
      },
      "execution_count": null,
      "outputs": [
        {
          "output_type": "stream",
          "name": "stdout",
          "text": [
            "Optimization terminated successfully.\n",
            "         Current function value: 2.433299\n",
            "         Iterations 5\n",
            "\n",
            "(d) Resultados da regressão de Poisson:\n",
            "                          Poisson Regression Results                          \n",
            "==============================================================================\n",
            "Dep. Variable:                      P   No. Observations:                   27\n",
            "Model:                        Poisson   Df Residuals:                       22\n",
            "Method:                           MLE   Df Model:                            4\n",
            "Date:                Thu, 28 Sep 2023   Pseudo R-squ.:                 0.05257\n",
            "Time:                        21:59:40   Log-Likelihood:                -65.699\n",
            "converged:                       True   LL-Null:                       -69.344\n",
            "Covariance Type:            nonrobust   LLR p-value:                    0.1213\n",
            "==============================================================================\n",
            "                 coef    std err          z      P>|z|      [0.025      0.975]\n",
            "------------------------------------------------------------------------------\n",
            "const         18.8964     35.341      0.535      0.593     -50.371      88.164\n",
            "A            -13.2542     31.465     -0.421      0.674     -74.925      48.416\n",
            "B             -0.3309      0.127     -2.611      0.009      -0.579      -0.083\n",
            "C             -0.0029      0.006     -0.459      0.646      -0.015       0.009\n",
            "D             -0.0008      0.004     -0.188      0.851      -0.009       0.007\n",
            "==============================================================================\n"
          ]
        }
      ]
    },
    {
      "cell_type": "markdown",
      "source": [
        "**Questão 4.9**"
      ],
      "metadata": {
        "id": "puFsH5U71NTi"
      }
    },
    {
      "cell_type": "code",
      "source": [
        "import numpy as np\n",
        "import pandas as pd\n",
        "import statsmodels.api as sm\n",
        "!pip install numpy\n",
        "!pip install pandas\n",
        "!pip install statsmodels"
      ],
      "metadata": {
        "id": "AMC_0Ue3ZLMY"
      },
      "execution_count": null,
      "outputs": []
    },
    {
      "cell_type": "code",
      "source": [
        "data = {\n",
        "    'A':[248,248,248,248,248,248,248,248,248,252,252,252,252,252,252,252,252,252],\n",
        "    'B':[4.38,4.38,4.38,4.4,4.4,4.4,4.42,4.42,4.42,4.38,4.38,4.38,4.4,4.4,4.4,4.42,4.42,4.42],\n",
        "    'C':[340,360,380,340,360,380,340,360,380,340,360,380,340,360,380,340,360,380],\n",
        "    'D':[340,360,380,340,360,380,360,380,340,380,340,360,360,380,340,380,340,360],\n",
        "    'E':[340,360,380,360,380,340,340,360,380,380,340,360,380,340,360,360,380,340],\n",
        "    'F':[0,3,6,3,6,0,6,0,3,3,6,0,0,3,6,6,0,3],\n",
        "    'G':[0,2,4,4,0,2,2,4,0,2,4,0,4,0,2,0,2,4],\n",
        "    'Defeitos':[4,2,1,2,6,15,9,5,8,5,4,11,10,15,4,12,6,7],\n",
        "}\n",
        "df1 = pd.DataFrame(data)"
      ],
      "metadata": {
        "id": "WQVaPBt11O2g"
      },
      "execution_count": null,
      "outputs": []
    },
    {
      "cell_type": "code",
      "source": [
        "# Definindo as variáveis independentes e dependentes\n",
        "X = df1[['A', 'B', 'C', 'D', 'E', 'F', 'G']]\n",
        "X = sm.add_constant(X)  # Adicionando uma constante (intercepto)\n",
        "y = df1['Defeitos']\n",
        "\n",
        "# Regressão de Poisson\n",
        "model = sm.GLM(y, X, family=sm.families.Poisson()).fit()\n",
        "\n",
        "# Exibindo os resultados\n",
        "print(model.summary())"
      ],
      "metadata": {
        "colab": {
          "base_uri": "https://localhost:8080/"
        },
        "id": "VZj_IDFJ1cEi",
        "outputId": "ef04d72d-0413-4eb0-fab8-79244f737f4f"
      },
      "execution_count": null,
      "outputs": [
        {
          "output_type": "stream",
          "name": "stdout",
          "text": [
            "                 Generalized Linear Model Regression Results                  \n",
            "==============================================================================\n",
            "Dep. Variable:               Defeitos   No. Observations:                   18\n",
            "Model:                            GLM   Df Residuals:                       10\n",
            "Model Family:                 Poisson   Df Model:                            7\n",
            "Link Function:                    Log   Scale:                          1.0000\n",
            "Method:                          IRLS   Log-Likelihood:                -38.949\n",
            "Date:                Thu, 28 Sep 2023   Deviance:                       12.939\n",
            "Time:                        22:44:02   Pearson chi2:                     13.4\n",
            "No. Iterations:                     4   Pseudo R-squ. (CS):             0.8280\n",
            "Covariance Type:            nonrobust                                         \n",
            "==============================================================================\n",
            "                 coef    std err          z      P>|z|      [0.025      0.975]\n",
            "------------------------------------------------------------------------------\n",
            "const        -85.3511     28.539     -2.991      0.003    -141.286     -29.417\n",
            "A              0.0821      0.046      1.780      0.075      -0.008       0.173\n",
            "B             14.8156      5.895      2.513      0.012       3.262      26.369\n",
            "C              0.0021      0.006      0.368      0.713      -0.009       0.013\n",
            "D              0.0128      0.006      2.196      0.028       0.001       0.024\n",
            "E             -0.0092      0.006     -1.579      0.114      -0.021       0.002\n",
            "F             -0.0843      0.040     -2.103      0.035      -0.163      -0.006\n",
            "G             -0.1732      0.058     -2.990      0.003      -0.287      -0.060\n",
            "==============================================================================\n"
          ]
        }
      ]
    },
    {
      "cell_type": "markdown",
      "source": [
        "4.9-\n",
        "Com base nos resultados da regressão de Poisson, podemos fazer as seguintes observações:\n",
        "\n",
        "Significância dos Coeficientes:\n",
        "\n",
        "As variáveis B, D, F, e G são estatisticamente significativas no nível de 5%, pois seus valores p (P>|z|) são menores que 0,05. Isso indica que essas variáveis têm um efeito significativo no número de defeitos.\n",
        "A variável A tem um valor p ligeiramente acima de 0,05, indicando que pode ser marginalmente significativa.\n",
        "As variáveis C e E não são estatisticamente significativas no nível de 5% porque seus valores p são maiores que 0,05.\n",
        "Coeficientes:\n",
        "\n",
        "A variável B tem um coeficiente positivo, o que indica que um aumento em B está associado a um aumento no logaritmo esperado do número de defeitos.\n",
        "As variáveis F e G têm coeficientes negativos, indicando que um aumento nessas variáveis está associado a uma diminuição no logaritmo esperado do número de defeitos.\n",
        "As outras variáveis têm efeitos variados no número de defeitos, conforme indicado por seus coeficientes.\n",
        "Pseudo R-squared:\n",
        "\n",
        "O valor do Pseudo R-squared é 0,8280, o que indica que o modelo explica aproximadamente 82,8% da variação na resposta em relação a um modelo que não tem preditores.\n",
        "Log-Likelihood:\n",
        "\n",
        "O valor do Log-Likelihood é -38,949. Quanto maior o valor da log-verossimilhança, melhor o modelo se ajusta aos dados. Este valor é usado principalmente para comparações entre diferentes modelos.\n",
        "Deviance e Pearson chi2:\n",
        "\n",
        "A deviance é uma medida de quão bem o modelo se ajusta aos dados. Um valor baixo indica um bom ajuste. O valor da deviance é 12,939 e o valor do Pearson chi2 é 13,4, o que sugere que o modelo se ajusta razoavelmente bem aos dados.\n",
        "Em resumo, o modelo de regressão de Poisson ajustado aos dados parece ser adequado, com algumas variáveis sendo estatisticamente significativas. As variáveis B, D, F, e G são particularmente importantes na previsão do número de defeitos."
      ],
      "metadata": {
        "id": "BHdJD5Zp-bmg"
      }
    }
  ]
}
